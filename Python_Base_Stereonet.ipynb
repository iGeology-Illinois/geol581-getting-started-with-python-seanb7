{
  "nbformat": 4,
  "nbformat_minor": 0,
  "metadata": {
    "colab": {
      "provenance": [],
      "authorship_tag": "ABX9TyO7s69fpmwJru0q7Vkm6o40",
      "include_colab_link": true
    },
    "kernelspec": {
      "name": "python3",
      "display_name": "Python 3"
    },
    "language_info": {
      "name": "python"
    }
  },
  "cells": [
    {
      "cell_type": "markdown",
      "metadata": {
        "id": "view-in-github",
        "colab_type": "text"
      },
      "source": [
        "<a href=\"https://colab.research.google.com/github/iGeology-Illinois/geol581-getting-started-with-python-seanb7/blob/main/Python_Base_Stereonet.ipynb\" target=\"_parent\"><img src=\"https://colab.research.google.com/assets/colab-badge.svg\" alt=\"Open In Colab\"/></a>"
      ]
    },
    {
      "cell_type": "code",
      "source": [
        "#!pip install mplstereonet\n",
        "#!pip install panadas\n",
        "\n",
        "import numpy as np\n",
        "import matplotlib.pyplot as plt\n",
        "import pandas as pd\n",
        "from IPython.display import HTML, YouTubeVideo\n",
        "\n",
        "print(\"Welcome to the Structural Geology Stereonet Notebook\")"
      ],
      "metadata": {
        "colab": {
          "base_uri": "https://localhost:8080/"
        },
        "id": "Cs2anZwIR24u",
        "outputId": "5054e306-87e6-4b7c-d9fe-b24548d6e93b"
      },
      "execution_count": null,
      "outputs": [
        {
          "output_type": "stream",
          "name": "stdout",
          "text": [
            "Welcome to the Structural Geology Stereonet Notebook\n"
          ]
        }
      ]
    },
    {
      "cell_type": "code",
      "source": [
        "# HELPER FUNCTIONS\n",
        "def plot_planes(planes, title=\"Planes on Schmidt Net\"):\n",
        "    fig = plt.figure(figsize=(6,6))\n",
        "    ax = fig.add_subplot(111, projection='equal_area')\n",
        "\n",
        "    for strike, dip in planes:\n",
        "        ax.plane(strike, dip, linewidth=2)\n",
        "        pt, pp = mplstereonet.pole(strike, dip)\n",
        "        ax.pole(strike, dip, 'o', markersize=8)\n",
        "\n",
        "    ax.grid(True)\n",
        "    ax.set_title(title)\n",
        "    plt.show()\n",
        "\n",
        "def plot_poles(poles, title=\"Poles on Schmidt Net\"):\n",
        "    fig = plt.figure(figsize=(6,6))\n",
        "    ax = fig.add_subplot(111, projection='equal_area')\n",
        "\n",
        "    for (trend, plunge) in poles:\n",
        "        ax.line(trend, plunge, marker='o', markersize=8)\n",
        "\n",
        "    ax.grid(True)\n",
        "    ax.set_title(title)\n",
        "    plt.show()\n",
        "\n",
        "print(\"Helper functions defined: plot_planes() and plot_poles()\")"
      ],
      "metadata": {
        "colab": {
          "base_uri": "https://localhost:8080/"
        },
        "id": "TYuXJulFS3ih",
        "outputId": "d1394948-70a1-4c95-a444-80b0bc21e9e8"
      },
      "execution_count": null,
      "outputs": [
        {
          "output_type": "stream",
          "name": "stdout",
          "text": [
            "Helper functions defined: plot_planes() and plot_poles()\n"
          ]
        }
      ]
    },
    {
      "cell_type": "code",
      "source": [
        "import pandas as pd\n",
        "\n",
        "df = pd.read_csv('strikes and dips.csv')  # Load CSV into a DataFrame\n",
        "print(df)  # Display the data"
      ],
      "metadata": {
        "id": "RK9uKQTf7TMH",
        "outputId": "2323e6df-417d-40f6-b842-81124f1fcf1a",
        "colab": {
          "base_uri": "https://localhost:8080/"
        }
      },
      "execution_count": 1,
      "outputs": [
        {
          "output_type": "stream",
          "name": "stdout",
          "text": [
            "       ID  Strike   Dip              Date    MeasuredBy  \\\n",
            "0    P1-3    43.3  51.0  2025-01-03 23:24   Carlos Diaz   \n",
            "1    P2-4   133.5  80.0  2025-01-12 17:55    John Smith   \n",
            "2    P4-1   119.4  87.8  2025-01-16 02:19   Carlos Diaz   \n",
            "3    P1-7    43.2  49.4  2025-01-10 19:48  Sarah Parker   \n",
            "4    P1-2    44.2  50.6  2025-01-15 22:05      Mei Chen   \n",
            "5    P3-9   226.6  41.4  2025-01-13 01:42   Carlos Diaz   \n",
            "6    P3-6   226.1  38.1  2025-01-14 15:10      Mei Chen   \n",
            "7    P2-7   136.1  79.3  2025-01-26 22:19      Mei Chen   \n",
            "8   P1-10    43.1  51.3  2025-01-30 22:38   Carlos Diaz   \n",
            "9    P2-9   136.8  81.6  2025-01-24 06:09    John Smith   \n",
            "10  P3-10   226.4  41.6  2025-01-16 20:34   Carlos Diaz   \n",
            "11   P2-5   133.2  78.3  2025-01-26 16:34   Carlos Diaz   \n",
            "12   P1-4    45.4  48.4  2025-01-15 08:16  Sarah Parker   \n",
            "13   P4-2   351.7  82.2  2025-01-08 05:35   Carlos Diaz   \n",
            "14   P2-8   136.7  79.5  2025-01-04 08:47  Sarah Parker   \n",
            "15   P3-4   225.0  41.6  2025-01-04 11:29    John Smith   \n",
            "16   P2-1   136.0  79.8  2025-01-29 14:31    John Smith   \n",
            "17   P3-5   225.1  40.9  2025-01-27 11:43    John Smith   \n",
            "18   P1-6    46.9  50.9  2025-01-17 13:00    John Smith   \n",
            "19   P3-2   226.5  39.0  2025-01-02 11:47   Carlos Diaz   \n",
            "20   P3-7   224.6  39.3  2025-01-07 13:26   Carlos Diaz   \n",
            "21   P1-1    46.7  51.9  2025-01-05 22:58   Carlos Diaz   \n",
            "22   P1-9    45.8  48.8  2025-01-18 22:54    John Smith   \n",
            "23   P2-2   133.9  80.4  2025-01-30 11:15  Sarah Parker   \n",
            "24  P2-10   136.9  78.4  2025-01-22 16:02      Mei Chen   \n",
            "25   P3-1   225.5  41.6  2025-01-11 07:39      Mei Chen   \n",
            "26   P2-3   133.1  80.9  2025-01-11 15:30    John Smith   \n",
            "27   P3-8   226.0  41.6  2025-01-05 12:10   Carlos Diaz   \n",
            "28   P4-3   185.8  70.7  2025-01-08 05:07  Sarah Parker   \n",
            "29   P3-3   225.9  38.9  2025-01-10 12:36   Carlos Diaz   \n",
            "30   P1-8    46.0  50.7  2025-01-03 08:12  Sarah Parker   \n",
            "31   P2-6   134.7  80.2  2025-01-16 01:40  Sarah Parker   \n",
            "32   P1-5    44.2  49.7  2025-01-08 04:09  Sarah Parker   \n",
            "\n",
            "                     Company Location                    Notes  \n",
            "0   Pettijohn and Associates   Site C     Inconsistent bedding  \n",
            "1   Pettijohn and Associates   Site D        Uncertain contact  \n",
            "2   Pettijohn and Associates   Site C         Possible error??  \n",
            "3   Pettijohn and Associates   Site C              Loose scree  \n",
            "4   Pettijohn and Associates   Site B       Watch for slippage  \n",
            "5   Pettijohn and Associates   Site A       Watch for slippage  \n",
            "6   Pettijohn and Associates   Site B     Inconsistent bedding  \n",
            "7   Pettijohn and Associates   Site B     Inconsistent bedding  \n",
            "8   Pettijohn and Associates   Site B         Difficult to see  \n",
            "9   Pettijohn and Associates   Site C       Watch for slippage  \n",
            "10  Pettijohn and Associates   Site B              Wet outcrop  \n",
            "11  Pettijohn and Associates   Site A  Covered with vegetation  \n",
            "12  Pettijohn and Associates   Site A              Wet outcrop  \n",
            "13  Pettijohn and Associates   Site D         Possible error??  \n",
            "14  Pettijohn and Associates   Site B  Covered with vegetation  \n",
            "15  Pettijohn and Associates   Site C       Watch for slippage  \n",
            "16  Pettijohn and Associates   Site B         Difficult to see  \n",
            "17  Pettijohn and Associates   Site A              Loose scree  \n",
            "18  Pettijohn and Associates   Site D        Uncertain contact  \n",
            "19  Pettijohn and Associates   Site D              Loose scree  \n",
            "20  Pettijohn and Associates   Site C     Inconsistent bedding  \n",
            "21  Pettijohn and Associates   Site C              Loose scree  \n",
            "22  Pettijohn and Associates   Site A        Uncertain contact  \n",
            "23  Pettijohn and Associates   Site C  Covered with vegetation  \n",
            "24  Pettijohn and Associates   Site B           Measure again?  \n",
            "25  Pettijohn and Associates   Site A              Wet outcrop  \n",
            "26  Pettijohn and Associates   Site B              Loose scree  \n",
            "27  Pettijohn and Associates   Site D           Measure again?  \n",
            "28  Pettijohn and Associates   Site B         Possible error??  \n",
            "29  Pettijohn and Associates   Site B              Loose scree  \n",
            "30  Pettijohn and Associates   Site D              Loose scree  \n",
            "31  Pettijohn and Associates   Site A         Difficult to see  \n",
            "32  Pettijohn and Associates   Site D     Inconsistent bedding  \n"
          ]
        }
      ]
    },
    {
      "cell_type": "code",
      "source": [
        "# Extract strike and dip values\n",
        "strike = df[\"Strike\"].values\n",
        "dip = df[\"Dip\"].values\n",
        "\n",
        "# Import the mplstereonet module\n",
        "import mplstereonet\n",
        "\n",
        "# Create a Schmidt net plot\n",
        "fig, ax = mplstereonet.subplots(figsize=(8, 8), projection= 'equal_area')\n",
        "\n",
        "# Convert strike and dip into poles and plot them\n",
        "ax.pole(strike, dip, 'ko', markersize=5, label=\"Poles\")\n",
        "\n",
        "# Add density contours to observe clustering\n",
        "ax.density_contourf(strike, dip, measurement='poles', cmap='Blues')\n",
        "ax.density_contour(strike, dip, measurement='poles', colors='black')\n",
        "\n",
        "# Labels and display\n",
        "ax.grid()\n",
        "ax.legend()\n",
        "plt.title(\"Schmidt Net of Bedding Planes (Poles)\")\n",
        "plt.show()"
      ],
      "metadata": {
        "id": "w4TB2aW97WQN",
        "outputId": "387ab9ae-13a1-4ce9-f431-b87880cf4f0d",
        "colab": {
          "base_uri": "https://localhost:8080/",
          "height": 384
        }
      },
      "execution_count": 3,
      "outputs": [
        {
          "output_type": "error",
          "ename": "ModuleNotFoundError",
          "evalue": "No module named 'mplstereonet'",
          "traceback": [
            "\u001b[0;31m---------------------------------------------------------------------------\u001b[0m",
            "\u001b[0;31mModuleNotFoundError\u001b[0m                       Traceback (most recent call last)",
            "\u001b[0;32m<ipython-input-3-784ce18d0772>\u001b[0m in \u001b[0;36m<cell line: 0>\u001b[0;34m()\u001b[0m\n\u001b[1;32m      4\u001b[0m \u001b[0;34m\u001b[0m\u001b[0m\n\u001b[1;32m      5\u001b[0m \u001b[0;31m# Import the mplstereonet module\u001b[0m\u001b[0;34m\u001b[0m\u001b[0;34m\u001b[0m\u001b[0m\n\u001b[0;32m----> 6\u001b[0;31m \u001b[0;32mimport\u001b[0m \u001b[0mmplstereonet\u001b[0m\u001b[0;34m\u001b[0m\u001b[0;34m\u001b[0m\u001b[0m\n\u001b[0m\u001b[1;32m      7\u001b[0m \u001b[0;34m\u001b[0m\u001b[0m\n\u001b[1;32m      8\u001b[0m \u001b[0;31m# Create a Schmidt net plot\u001b[0m\u001b[0;34m\u001b[0m\u001b[0;34m\u001b[0m\u001b[0m\n",
            "\u001b[0;31mModuleNotFoundError\u001b[0m: No module named 'mplstereonet'",
            "",
            "\u001b[0;31m---------------------------------------------------------------------------\u001b[0;32m\nNOTE: If your import is failing due to a missing package, you can\nmanually install dependencies using either !pip or !apt.\n\nTo view examples of installing some common dependencies, click the\n\"Open Examples\" button below.\n\u001b[0;31m---------------------------------------------------------------------------\u001b[0m\n"
          ],
          "errorDetails": {
            "actions": [
              {
                "action": "open_url",
                "actionText": "Open Examples",
                "url": "/notebooks/snippets/importing_libraries.ipynb"
              }
            ]
          }
        }
      ]
    },
    {
      "cell_type": "code",
      "source": [],
      "metadata": {
        "id": "1GMaSnp57aJ8"
      },
      "execution_count": null,
      "outputs": []
    }
  ]
}